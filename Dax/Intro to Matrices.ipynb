{
 "cells": [
  {
   "cell_type": "code",
   "execution_count": 1,
   "id": "7d06e840",
   "metadata": {},
   "outputs": [],
   "source": [
    "import numpy as np"
   ]
  },
  {
   "cell_type": "markdown",
   "id": "0d318598",
   "metadata": {},
   "source": [
    "### FITS Files and Matrices\n",
    "\n",
    "\n",
    "A matrix is a two-dimensional array of numbers arranged in rows and columns. Each element in the matrix can be identified by its row and column indices. Matrices are fundamental mathematical objects used in various fields such as linear algebra, computer graphics, statistics, and machine learning.\n",
    "\n",
    "\n",
    "In the context of FITS files, which are commonly used in astronomy to store image data, a matrix is particularly useful for representing the pixel values of the image. Each element of the matrix corresponds to a pixel in the image, and the value of the element represents the intensity or brightness of that pixel. By arranging pixel values in a matrix, we can efficiently store and manipulate image data."
   ]
  },
  {
   "cell_type": "markdown",
   "id": "c10214a7",
   "metadata": {},
   "source": [
    "First we are going to make a matrix by using np.array"
   ]
  },
  {
   "cell_type": "code",
   "execution_count": 4,
   "id": "f9c1b6ba",
   "metadata": {},
   "outputs": [
    {
     "name": "stdout",
     "output_type": "stream",
     "text": [
      "Original Matrix:\n",
      "[[ 1  2  3  4]\n",
      " [ 5  6  7  8]\n",
      " [ 9 10 11 12]\n",
      " [13 14 15 16]]\n",
      "\n"
     ]
    }
   ],
   "source": [
    "matrix = np.array([[1, 2, 3, 4], [5, 6, 7, 8], [9, 10, 11, 12], [13, 14, 15, 16]])\n",
    "\n",
    "# Display the matrix\n",
    "print(\"Original Matrix:\")\n",
    "print(matrix)\n",
    "print()"
   ]
  },
  {
   "cell_type": "markdown",
   "id": "d1db04d9",
   "metadata": {},
   "source": [
    "There are many different ways that we can select elements from a matrix"
   ]
  },
  {
   "cell_type": "code",
   "execution_count": 9,
   "id": "34e1bebd",
   "metadata": {},
   "outputs": [
    {
     "data": {
      "text/plain": [
       "2"
      ]
     },
     "execution_count": 9,
     "metadata": {},
     "output_type": "execute_result"
    }
   ],
   "source": [
    "# Selecting based on position\n",
    "# matrix[row, column]\n",
    "# Both rows and columns start at 0\n",
    "\n",
    "matrix[0, 1]"
   ]
  },
  {
   "cell_type": "code",
   "execution_count": 10,
   "id": "db724d98",
   "metadata": {},
   "outputs": [
    {
     "data": {
      "text/plain": [
       "array([1, 2, 3, 4])"
      ]
     },
     "execution_count": 10,
     "metadata": {},
     "output_type": "execute_result"
    }
   ],
   "source": [
    "# Selecting a row\n",
    "\n",
    "matrix[0, :]"
   ]
  },
  {
   "cell_type": "code",
   "execution_count": 11,
   "id": "71924e14",
   "metadata": {},
   "outputs": [
    {
     "data": {
      "text/plain": [
       "array([ 1,  5,  9, 13])"
      ]
     },
     "execution_count": 11,
     "metadata": {},
     "output_type": "execute_result"
    }
   ],
   "source": [
    "# Selecting a column\n",
    "\n",
    "matrix[:, 0]"
   ]
  },
  {
   "cell_type": "code",
   "execution_count": 12,
   "id": "0598499f",
   "metadata": {},
   "outputs": [
    {
     "data": {
      "text/plain": [
       "16"
      ]
     },
     "execution_count": 12,
     "metadata": {},
     "output_type": "execute_result"
    }
   ],
   "source": [
    "# Selecting the last value\n",
    "\n",
    "matrix[-1, -1]"
   ]
  },
  {
   "cell_type": "code",
   "execution_count": 16,
   "id": "e072f468",
   "metadata": {},
   "outputs": [
    {
     "data": {
      "text/plain": [
       "array([13, 14, 15, 16])"
      ]
     },
     "execution_count": 16,
     "metadata": {},
     "output_type": "execute_result"
    }
   ],
   "source": [
    "# Selecting the last row or column\n",
    "\n",
    "matrix[-1, :]"
   ]
  },
  {
   "cell_type": "code",
   "execution_count": 17,
   "id": "6842641f",
   "metadata": {},
   "outputs": [
    {
     "data": {
      "text/plain": [
       "array([ 4,  8, 12, 16])"
      ]
     },
     "execution_count": 17,
     "metadata": {},
     "output_type": "execute_result"
    }
   ],
   "source": [
    "matrix[:, -1]"
   ]
  },
  {
   "cell_type": "code",
   "execution_count": 15,
   "id": "6fc257ac",
   "metadata": {},
   "outputs": [
    {
     "data": {
      "text/plain": [
       "array([ 9, 10, 11, 12])"
      ]
     },
     "execution_count": 15,
     "metadata": {},
     "output_type": "execute_result"
    }
   ],
   "source": [
    "# Selecting a penultimate row or column\n",
    "\n",
    "matrix[-2, :]"
   ]
  },
  {
   "cell_type": "code",
   "execution_count": 14,
   "id": "196f358e",
   "metadata": {},
   "outputs": [
    {
     "data": {
      "text/plain": [
       "array([ 3,  7, 11, 15])"
      ]
     },
     "execution_count": 14,
     "metadata": {},
     "output_type": "execute_result"
    }
   ],
   "source": [
    "matrix[:, -2]"
   ]
  },
  {
   "cell_type": "code",
   "execution_count": 19,
   "id": "982067c5",
   "metadata": {},
   "outputs": [
    {
     "data": {
      "text/plain": [
       "array([ 8,  9, 10, 11, 12, 13, 14, 15, 16])"
      ]
     },
     "execution_count": 19,
     "metadata": {},
     "output_type": "execute_result"
    }
   ],
   "source": [
    "# Selecting above a certain value\n",
    "\n",
    "matrix[matrix>7]"
   ]
  },
  {
   "cell_type": "code",
   "execution_count": 20,
   "id": "924c71d8",
   "metadata": {},
   "outputs": [
    {
     "data": {
      "text/plain": [
       "array([ 7,  8,  9, 10, 11, 12, 13, 14, 15, 16])"
      ]
     },
     "execution_count": 20,
     "metadata": {},
     "output_type": "execute_result"
    }
   ],
   "source": [
    "# Selecting a value and above\n",
    "\n",
    "matrix[matrix>=7]"
   ]
  },
  {
   "cell_type": "code",
   "execution_count": 26,
   "id": "9babd86c",
   "metadata": {},
   "outputs": [
    {
     "data": {
      "text/plain": [
       "array([ 1,  2,  3,  4,  5,  6, 13, 14, 15, 16])"
      ]
     },
     "execution_count": 26,
     "metadata": {},
     "output_type": "execute_result"
    }
   ],
   "source": [
    "# Selecting a range of values less than 7 and greater than 12\n",
    "\n",
    "matrix[(matrix<7) | (matrix>12)]"
   ]
  },
  {
   "cell_type": "markdown",
   "id": "28671b67",
   "metadata": {},
   "source": [
    "### Transposed Matrix\n",
    "\n",
    "\n",
    "Transposing a matrix involves flipping its rows and columns. This operation converts rows into columns and columns into rows, effectively changing the orientation of the matrix. If a matrix has dimensions m x n, its transpose will have dimensions n x m."
   ]
  },
  {
   "cell_type": "code",
   "execution_count": 27,
   "id": "3a41c2d9",
   "metadata": {},
   "outputs": [
    {
     "data": {
      "text/plain": [
       "array([[ 1,  5,  9, 13],\n",
       "       [ 2,  6, 10, 14],\n",
       "       [ 3,  7, 11, 15],\n",
       "       [ 4,  8, 12, 16]])"
      ]
     },
     "execution_count": 27,
     "metadata": {},
     "output_type": "execute_result"
    }
   ],
   "source": [
    "matrix.transpose()"
   ]
  },
  {
   "cell_type": "markdown",
   "id": "b5ff55ce",
   "metadata": {},
   "source": [
    "### NaN Values\n",
    "\n",
    "\n",
    "A \"NaN\" value stands for \"Not a Number.\" It is a special floating-point value used to represent undefined or unrepresentable numerical results, typically resulting from arithmetic operations involving undefined quantities, such as zero divided by zero or infinity minus infinity."
   ]
  },
  {
   "cell_type": "code",
   "execution_count": 28,
   "id": "18dc5f37",
   "metadata": {},
   "outputs": [
    {
     "data": {
      "text/plain": [
       "array([[nan,  2.,  3.,  4.],\n",
       "       [ 5.,  6.,  7.,  8.],\n",
       "       [ 9., 10., 11., 12.],\n",
       "       [13., 14., 15., nan]])"
      ]
     },
     "execution_count": 28,
     "metadata": {},
     "output_type": "execute_result"
    }
   ],
   "source": [
    "B = np.asarray([[np.nan, 2, 3, 4], [5, 6, 7, 8], [9, 10, 11, 12], [13, 14, 15, np.nan]])\n",
    "B"
   ]
  },
  {
   "cell_type": "code",
   "execution_count": 29,
   "id": "42ba25a2",
   "metadata": {},
   "outputs": [
    {
     "data": {
      "text/plain": [
       "array([ 2.,  3.,  4.,  5.,  6.,  7.,  8.,  9., 10., 11., 12., 13., 14.,\n",
       "       15.])"
      ]
     },
     "execution_count": 29,
     "metadata": {},
     "output_type": "execute_result"
    }
   ],
   "source": [
    "# Selecting number values only\n",
    "\n",
    "B[np.isfinite(B)]"
   ]
  },
  {
   "cell_type": "code",
   "execution_count": 30,
   "id": "bade0aae",
   "metadata": {},
   "outputs": [
    {
     "data": {
      "text/plain": [
       "array([ 2.,  3.,  4.,  5.,  6.,  7.,  8.,  9., 10., 11., 12., 13., 14.,\n",
       "       15.])"
      ]
     },
     "execution_count": 30,
     "metadata": {},
     "output_type": "execute_result"
    }
   ],
   "source": [
    "# OR\n",
    "\n",
    "B[~np.isnan(B)]"
   ]
  },
  {
   "cell_type": "markdown",
   "id": "e2770754",
   "metadata": {},
   "source": [
    "## Introduction to Matrices is Complete\n",
    "\n",
    "\n",
    "In this notebook we have covered:\n",
    "- How to create a matrix\n",
    "- How to transpose a matrix\n",
    "- How to select a variety of values in a matrix"
   ]
  },
  {
   "cell_type": "code",
   "execution_count": null,
   "id": "8d296dba",
   "metadata": {},
   "outputs": [],
   "source": []
  }
 ],
 "metadata": {
  "kernelspec": {
   "display_name": "Python 3 (ipykernel)",
   "language": "python",
   "name": "python3"
  },
  "language_info": {
   "codemirror_mode": {
    "name": "ipython",
    "version": 3
   },
   "file_extension": ".py",
   "mimetype": "text/x-python",
   "name": "python",
   "nbconvert_exporter": "python",
   "pygments_lexer": "ipython3",
   "version": "3.11.5"
  }
 },
 "nbformat": 4,
 "nbformat_minor": 5
}
