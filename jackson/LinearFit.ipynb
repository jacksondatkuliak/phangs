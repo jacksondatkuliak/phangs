{
 "cells": [
  {
   "cell_type": "markdown",
   "metadata": {},
   "source": [
    "Target fits file will have its background and relative signal strength matched with reference frame. \n",
    "Both fits files MUST have the same pixel scale, rotation, astrometric solution, etc.\n",
    "Resample FITS files together BEFORE using the linear fit function!\n",
    "\n",
    "* This is basically just a python implementation of the LinearFit process in PixInsight, I got the algorithm for how to do this process from: https://pixinsight.com/forum/index.php?threads/linear-fit-rgb.7142/\n",
    "Written by Jackson Datkuliak"
   ]
  },
  {
   "cell_type": "code",
   "execution_count": 1,
   "metadata": {},
   "outputs": [],
   "source": [
    "# Imports\n",
    "from astropy.io import fits\n",
    "import numpy as np\n",
    "from sklearn.linear_model import LinearRegression\n",
    "import time"
   ]
  },
  {
   "cell_type": "code",
   "execution_count": 2,
   "metadata": {},
   "outputs": [],
   "source": [
    "# Vars (LOOK HERE BEFORE RUNNING)\n",
    "reference_path = \"/home/jackson/test_fits/h.fit\"   # Reference image read path\n",
    "target_path = \"/home/jackson/test_fits/o.fit\"      # Target image read path\n",
    "fitted_path = \"/home/jackson/test_fits/fitted.fit\" # Fitted image write path (Existing file will be overwritten!)\n",
    "hdul_index = 0                                     # Change what HDUL index to grab image data from (usually 0)              Default = 0\n",
    "verbose = True                                     # Report coefficient, intercept, and score of the linear regression model Default = True\n",
    "debug_mode = False                                 # Debug mode. Only compute linear regression model                         Default = False"
   ]
  },
  {
   "cell_type": "code",
   "execution_count": 3,
   "metadata": {},
   "outputs": [
    {
     "ename": "Exception",
     "evalue": "Reference and target FITS files were NOT the same size! Please resample images before performing linear fit!",
     "output_type": "error",
     "traceback": [
      "\u001b[0;31m---------------------------------------------------------------------------\u001b[0m",
      "\u001b[0;31mException\u001b[0m                                 Traceback (most recent call last)",
      "Cell \u001b[0;32mIn[3], line 24\u001b[0m\n\u001b[1;32m     22\u001b[0m \u001b[38;5;66;03m# Ensure fits files have the same dimensions\u001b[39;00m\n\u001b[1;32m     23\u001b[0m \u001b[38;5;28;01mif\u001b[39;00m (ref_data\u001b[38;5;241m.\u001b[39msize \u001b[38;5;241m!=\u001b[39m tar_data\u001b[38;5;241m.\u001b[39msize):\n\u001b[0;32m---> 24\u001b[0m     \u001b[38;5;28;01mraise\u001b[39;00m \u001b[38;5;167;01mException\u001b[39;00m(\u001b[38;5;124m\"\u001b[39m\u001b[38;5;124mReference and target FITS files were NOT the same size! Please resample images before performing linear fit!\u001b[39m\u001b[38;5;124m\"\u001b[39m)\n\u001b[1;32m     26\u001b[0m \u001b[38;5;66;03m# Report that program found valid reference and target images\u001b[39;00m\n\u001b[1;32m     27\u001b[0m \u001b[38;5;28;01mif\u001b[39;00m (verbose): \n",
      "\u001b[0;31mException\u001b[0m: Reference and target FITS files were NOT the same size! Please resample images before performing linear fit!"
     ]
    }
   ],
   "source": [
    "# start timer\n",
    "if (verbose): \n",
    "    start = time.time()\n",
    "\n",
    "try:\n",
    "    # Load reference FITS file\n",
    "    with fits.open(reference_path) as hdul_ref:\n",
    "        ref_data = hdul_ref[hdul_index].data # grab reference frame image\n",
    "    hdul_ref.close # close HDUL\n",
    "except:\n",
    "    raise Exception(\"Unable to open reference fits file.\")\n",
    "try:\n",
    "    # Load target FITS file\n",
    "    with fits.open(target_path) as hdul_tar:\n",
    "        tar_data = hdul_tar[hdul_index].data # grab target frame image\n",
    "        fitted = tar_data # copy target frame into new array to mutate later\n",
    "        hdul_fitted = hdul_tar.copy() # copy HDUL to transfer to new fitted image\n",
    "    hdul_tar.close # close old HDUL unit\n",
    "except:\n",
    "    raise Exception(\"Unable to open reference fits file.\")\n",
    "\n",
    "# Ensure fits files have the same dimensions\n",
    "if (ref_data.size != tar_data.size):\n",
    "    raise Exception(\"Reference and target FITS files were NOT the same size! Please resample images before performing linear fit!\")\n",
    "\n",
    "# Report that program found valid reference and target images\n",
    "if (verbose): \n",
    "    print(\"Successfully loaded reference and target images.\")\n",
    "\n",
    "try:\n",
    "    # Compute linear fitting function\n",
    "    model = LinearRegression() # create linear regression model\n",
    "    ref_data_res = ref_data.reshape(-1,1) # reshaping the data so the model will return one coef and intercept\n",
    "    tar_data_res = tar_data.reshape(-1,1) # ...\n",
    "    model.fit(tar_data_res, ref_data_res) # fitting model to target pixel value vs reference target pixel\n",
    "    coef = model.coef_[0][0] # convert the coef and intercept from a numpy array to a float\n",
    "    intercept = model.intercept_[0] # ...\n",
    "    score = model.score(ref_data_res, tar_data_res) # get model fit score (doesn't necessarily need to be a good fit to work properly)\n",
    "except:\n",
    "    raise Exception(\"Unable to compute linear regression model.\")\n",
    "\n",
    "if (verbose): # report fit statistics\n",
    "    print(\"coef : \", coef, \"intercept: \", intercept, \"score: \", score)\n",
    "\n",
    "if (not debug_mode):\n",
    "    try:\n",
    "        # Apply linear fit function to new image array\n",
    "        with np.nditer(fitted, op_flags=[\"readwrite\"]) as x:\n",
    "            for y in x:\n",
    "                y[...]*=coef # multiply every pixel by coefficient\n",
    "                y[...]+=intercept # add intercept to every pixel\n",
    "    except:\n",
    "        raise Exception(\"Unable to apply regression model to target image.\")\n",
    "    try:\n",
    "        hdul_fitted.pop(hdul_index) # remove old image data\n",
    "        hdul_fitted.insert(hdul_index, fits.PrimaryHDU(data=fitted)) # add fitted image data\n",
    "        hdul_fitted.writeto(\"/home/jackson/test_fits/fitted.fit\", overwrite=True) # write new fits image file\n",
    "        if (verbose):\n",
    "            print(\"Fitted FITS file written successfully.\")\n",
    "    except:\n",
    "        raise Exception(\"Unable to write fitted fits file.\")\n",
    "    \n",
    "if (verbose): # report time it took to compute\n",
    "    end = time.time()\n",
    "    print(\"Linear fit completed in\", round(end - start, 2), \"seconds.\")\n"
   ]
  }
 ],
 "metadata": {
  "kernelspec": {
   "display_name": "phangs-venv",
   "language": "python",
   "name": "python3"
  },
  "language_info": {
   "codemirror_mode": {
    "name": "ipython",
    "version": 3
   },
   "file_extension": ".py",
   "mimetype": "text/x-python",
   "name": "python",
   "nbconvert_exporter": "python",
   "pygments_lexer": "ipython3",
   "version": "3.10.12"
  }
 },
 "nbformat": 4,
 "nbformat_minor": 2
}
